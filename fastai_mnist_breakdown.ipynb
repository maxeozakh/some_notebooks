{
 "cells": [
  {
   "cell_type": "code",
   "execution_count": 46,
   "id": "fb24bae9-ec62-4d9f-a372-13dee77822fc",
   "metadata": {},
   "outputs": [],
   "source": [
    "import fastai.vision.all as fai\n",
    "import fastbook as faibook\n",
    "\n",
    "fai.matplotlib.rc('image', cmap='Greys')"
   ]
  },
  {
   "cell_type": "code",
   "execution_count": 47,
   "id": "ef55b6f8-be33-4f6d-9100-ed8349359fb0",
   "metadata": {},
   "outputs": [],
   "source": [
    "# let's get images and transform them \n",
    "# to data with which we can work in NN, like this:\n",
    "# Image -> [[0,0,255]] -> [[0.0, 0.0, 1.0]]"
   ]
  },
  {
   "cell_type": "code",
   "execution_count": 48,
   "id": "dfdafa6c-3f15-4248-8fef-d917d26cfc26",
   "metadata": {},
   "outputs": [
    {
     "data": {
      "text/plain": [
       "Path('/Users/mxz/.fastai/data/mnist_sample')"
      ]
     },
     "execution_count": 48,
     "metadata": {},
     "output_type": "execute_result"
    }
   ],
   "source": [
    "path_to_imgs = fai.untar_data(fai.URLs.MNIST_SAMPLE)\n",
    "path_to_imgs"
   ]
  },
  {
   "cell_type": "code",
   "execution_count": 49,
   "id": "67a66c64-e1c5-4ed6-b07a-2a9116a0338a",
   "metadata": {},
   "outputs": [
    {
     "data": {
      "text/plain": [
       "(#3) [Path('/Users/mxz/.fastai/data/mnist_sample/valid'),Path('/Users/mxz/.fastai/data/mnist_sample/labels.csv'),Path('/Users/mxz/.fastai/data/mnist_sample/train')]"
      ]
     },
     "execution_count": 49,
     "metadata": {},
     "output_type": "execute_result"
    }
   ],
   "source": [
    "# we have some directories and files here\n",
    "path_to_imgs.ls()"
   ]
  },
  {
   "cell_type": "code",
   "execution_count": 50,
   "id": "11145788-dbb4-47e2-a2a5-f2d3b0836adc",
   "metadata": {},
   "outputs": [
    {
     "data": {
      "text/plain": [
       "Path('/Users/mxz/.fastai/data/mnist_sample/train/3/10.png')"
      ]
     },
     "execution_count": 50,
     "metadata": {},
     "output_type": "execute_result"
    }
   ],
   "source": [
    "train_threes_path = (path_to_imgs/'train'/'3').ls().sorted()\n",
    "train_sevens_path = (path_to_imgs/'train'/'7').ls().sorted()\n",
    "\n",
    "train_threes_path[0]"
   ]
  },
  {
   "cell_type": "code",
   "execution_count": 51,
   "id": "5fb431e2-846d-4e8b-8ec0-754416f8503b",
   "metadata": {},
   "outputs": [
    {
     "data": {
      "image/jpeg": "[encoded data removed]",
      "image/png": "[encoded data removed]",
      "text/plain": [
       "<PIL.PngImagePlugin.PngImageFile image mode=L size=28x28>"
      ]
     },
     "execution_count": 51,
     "metadata": {},
     "output_type": "execute_result"
    }
   ],
   "source": [
    "example_img = fai.Image.open(train_threes_path[1])\n",
    "example_img"
   ]
  },
  {
   "cell_type": "code",
   "execution_count": 52,
   "id": "64ecf2b8-5be0-4fed-b896-7e0b51ab33a0",
   "metadata": {},
   "outputs": [],
   "source": [
    "# to view the numbers that make up this image, \n",
    "# we have to convert it to a NumPy array or a PyTorch tensor\n",
    "example_img_as_numbers = fai.tensor(example_img)\n",
    "\n",
    "# 255 -> more \"bright\", dark, 0 -> more transparent, white\n",
    "# we can visualize those numbers, uncomment code below for it\n",
    "# df = fai.pd.DataFrame(example_img_as_numbers)\n",
    "# df.style.set_properties(**{'font-size':'6pt'}).background_gradient('Greys')\n"
   ]
  },
  {
   "cell_type": "code",
   "execution_count": 53,
   "id": "dae38a08-02c3-4a8e-85c0-2fc1cb33684e",
   "metadata": {},
   "outputs": [
    {
     "name": "stdout",
     "output_type": "stream",
     "text": [
      "torch.Size([6131, 28, 28])\n",
      "torch.Size([6265, 28, 28])\n"
     ]
    }
   ],
   "source": [
    "three_tensors = [fai.tensor(fai.Image.open(img)) for img in train_threes_path]\n",
    "seven_tensors = [fai.tensor(fai.Image.open(img)) for img in train_sevens_path]\n",
    "\n",
    "stacked_sevens = fai.torch.stack(seven_tensors).float() / 255\n",
    "stacked_threes = fai.torch.stack(three_tensors).float() / 255\n",
    "\n",
    "print(stacked_threes.size())\n",
    "print(stacked_sevens.size())"
   ]
  },
  {
   "cell_type": "code",
   "execution_count": 54,
   "id": "c662607e-9d84-4f7e-808d-0f79c309e770",
   "metadata": {},
   "outputs": [],
   "source": [
    "img_width = img_height = 28"
   ]
  },
  {
   "cell_type": "code",
   "execution_count": 58,
   "id": "44e665ed-c981-4396-95c4-1ef0a4a8bdd8",
   "metadata": {},
   "outputs": [
    {
     "data": {
      "text/plain": [
       "torch.Size([12396, 28, 28])"
      ]
     },
     "execution_count": 58,
     "metadata": {},
     "output_type": "execute_result"
    }
   ],
   "source": [
    "all_img_sample_tensors = fai.torch.cat([stacked_threes, stacked_sevens])\n",
    "all_img_sample_tensors.size()"
   ]
  },
  {
   "cell_type": "code",
   "execution_count": 61,
   "id": "10368df3-10d2-464b-8e54-90ee3f84a7cb",
   "metadata": {},
   "outputs": [
    {
     "data": {
      "text/plain": [
       "12396"
      ]
     },
     "execution_count": 61,
     "metadata": {},
     "output_type": "execute_result"
    }
   ],
   "source": [
    "samples_len = all_img_sample_tensors.size()[0]\n",
    "samples_len"
   ]
  },
  {
   "cell_type": "code",
   "execution_count": 68,
   "id": "6789b238-e6d2-4861-983b-2ac9889755b0",
   "metadata": {},
   "outputs": [],
   "source": [
    "# TODO: why we want to do it?\n",
    "\n",
    "# We want to change samples from a list of matrices (a rank-3 tensor) to a list of vectors (a rank-2 tensor). \n",
    "# We can do this using `view`, which is a PyTorch method that changes the shape of a tensor without changing its contents. "
   ]
  },
  {
   "cell_type": "code",
   "execution_count": 62,
   "id": "2c8eef82-4940-474a-b6f9-4b2ca29fa507",
   "metadata": {},
   "outputs": [
    {
     "data": {
      "text/plain": [
       "torch.Size([12396, 784])"
      ]
     },
     "execution_count": 62,
     "metadata": {},
     "output_type": "execute_result"
    }
   ],
   "source": [
    "train_x = all_img_sample_tensors.view(samples_len, img_width * img_height)\n",
    "# instead of samples_len we can use -1 to ask torch tensor to calclulate size for us\n",
    "# \"make this axis as big as necessary to fit all the data\"\n",
    "# all_img_sample_tensors.view(-1, img_width * img_height)\n",
    "train_x.size()"
   ]
  },
  {
   "cell_type": "code",
   "execution_count": null,
   "id": "4beb90da-eaf2-46ae-93ff-f7304fcb6c40",
   "metadata": {},
   "outputs": [],
   "source": []
  }
 ],
 "metadata": {
  "kernelspec": {
   "display_name": "Python 3 (ipykernel)",
   "language": "python",
   "name": "python3"
  },
  "language_info": {
   "codemirror_mode": {
    "name": "ipython",
    "version": 3
   },
   "file_extension": ".py",
   "mimetype": "text/x-python",
   "name": "python",
   "nbconvert_exporter": "python",
   "pygments_lexer": "ipython3",
   "version": "3.12.3"
  }
 },
 "nbformat": 4,
 "nbformat_minor": 5
}
