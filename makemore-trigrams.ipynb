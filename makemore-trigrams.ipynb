{
 "cells": [
  {
   "cell_type": "code",
   "execution_count": 496,
   "id": "5175f4a6-e577-4dac-b4c7-819fac3c232e",
   "metadata": {},
   "outputs": [],
   "source": [
    "words = open('names.txt', 'r').read().splitlines()\n",
    "names = [\n",
    "    'Maxim',\n",
    "    'Andrej',\n",
    "    'Anna',\n",
    "    'Lex',\n",
    "    'Jeremy',\n",
    "    'Sergei',\n",
    "    'Alexander',\n",
    "    'Maxeo',\n",
    "    'George',\n",
    "    'Elon',\n",
    "    'Faust',\n",
    "    'Michael',\n",
    "    'Jennifer',\n",
    "    'James',\n",
    "    'Emily',\n",
    "    'David',\n",
    "    'Ashley',\n",
    "    'Christopher',\n",
    "    'Sarah',\n",
    "    'Matthew',\n",
    "    'Jessica',\n",
    "    'Joshua',\n",
    "    'Megan',\n",
    "    'Daniel',\n",
    "    'Amanda',\n",
    "    'Ryan',\n",
    "    'Ethan',\n",
    "    'Olivia',\n",
    "    'Lucas',\n",
    "    'Sophia',\n",
    "    'Liam',\n",
    "    'Ava',\n",
    "    'Noah',\n",
    "    'Isabella',\n",
    "    'Mason',\n",
    "    'Mia',\n",
    "    'Jacob',\n",
    "    'Charlotte',\n",
    "    'William',\n",
    "    'Abigail',\n",
    "    'Jack',\n",
    "    'Madison',\n",
    "    'Henry',\n",
    "    'Ella',\n",
    "    'Samuel',\n",
    "    'Quentin',\n",
    "    'Grace',\n",
    "    'Logan',\n",
    "    'Victoria',\n",
    "    'Owen',\n",
    "    'Chloe',\n",
    "    'Nathan',\n",
    "    'Lily',\n",
    "    'Benjamin',\n",
    "    'Zoe',\n",
    "    'Andrew',\n",
    "    'Nora',\n",
    "    'Thomas',\n",
    "    'Hannah',\n",
    "    'Joseph',\n",
    "    'Amelia',\n",
    "    'Robert',\n",
    "    'Luna',\n",
    "    'Charles',\n",
    "    'Scarlett',\n",
    "    'Jason',\n",
    "    'Harper',\n",
    "    'Aaron',\n",
    "    'Aria',\n",
    "    'Tyler',\n",
    "    'Ellie',\n",
    "    'Brian',\n",
    "    'Sophie',\n",
    "    'Kevin',\n",
    "    'Aurora',\n",
    "    'Steven',\n",
    "    'Hazel',\n",
    "    'Eric',\n",
    "    'Zoey',\n",
    "    'Patrick',\n",
    "    'Stella',\n",
    "    'Mark',\n",
    "    'Lucy',\n",
    "    'Anthony',\n",
    "    'Peyton',\n",
    "    'Brandon',\n",
    "    'Layla',\n",
    "    'Sean',\n",
    "    'Savannah',\n",
    "    'Richard',\n",
    "    'Skylar',\n",
    "    'Paul',\n",
    "    'Ariana',\n",
    "    'Edward',\n",
    "    'Brooklyn',\n",
    "    'Peter',\n",
    "    'Caroline',\n",
    "    'Scott',\n",
    "    'Aubrey',\n",
    "    'Jason',\n",
    "    'Penelope'\n",
    "]\n",
    "\n",
    "# words = [name.lower() for name in names]\n",
    "# words = [\n",
    "#     'mam',\n",
    "#     'max',\n",
    "# ]"
   ]
  },
  {
   "cell_type": "code",
   "execution_count": 497,
   "id": "73afb898-d888-4079-a6c8-5b299b30c0df",
   "metadata": {},
   "outputs": [],
   "source": [
    "# train a trigram language model, i.e. take two characters as an input to predict the 3rd one\n",
    "# Feel free to use either counting or a neural net. Evaluate the loss; \n",
    "# Did it improve over a bigram model?"
   ]
  },
  {
   "cell_type": "code",
   "execution_count": 498,
   "id": "96127e69-9c59-4d73-b8f1-753f6ad56d48",
   "metadata": {
    "scrolled": true
   },
   "outputs": [
    {
     "name": "stdout",
     "output_type": "stream",
     "text": [
      "{'aa': 0, 'ab': 1, 'ac': 2, 'ad': 3, 'ae': 4, 'af': 5, 'ag': 6, 'ah': 7, 'ai': 8, 'aj': 9, 'ak': 10, 'al': 11, 'am': 12, 'an': 13, 'ao': 14, 'ap': 15, 'aq': 16, 'ar': 17, 'as': 18, 'at': 19, 'au': 20, 'av': 21, 'aw': 22, 'ax': 23, 'ay': 24, 'az': 25, 'a.': 26, 'ba': 27, 'bb': 28, 'bc': 29, 'bd': 30, 'be': 31, 'bf': 32, 'bg': 33, 'bh': 34, 'bi': 35, 'bj': 36, 'bk': 37, 'bl': 38, 'bm': 39, 'bn': 40, 'bo': 41, 'bp': 42, 'bq': 43, 'br': 44, 'bs': 45, 'bt': 46, 'bu': 47, 'bv': 48, 'bw': 49, 'bx': 50, 'by': 51, 'bz': 52, 'b.': 53, 'ca': 54, 'cb': 55, 'cc': 56, 'cd': 57, 'ce': 58, 'cf': 59, 'cg': 60, 'ch': 61, 'ci': 62, 'cj': 63, 'ck': 64, 'cl': 65, 'cm': 66, 'cn': 67, 'co': 68, 'cp': 69, 'cq': 70, 'cr': 71, 'cs': 72, 'ct': 73, 'cu': 74, 'cv': 75, 'cw': 76, 'cx': 77, 'cy': 78, 'cz': 79, 'c.': 80, 'da': 81, 'db': 82, 'dc': 83, 'dd': 84, 'de': 85, 'df': 86, 'dg': 87, 'dh': 88, 'di': 89, 'dj': 90, 'dk': 91, 'dl': 92, 'dm': 93, 'dn': 94, 'do': 95, 'dp': 96, 'dq': 97, 'dr': 98, 'ds': 99, 'dt': 100, 'du': 101, 'dv': 102, 'dw': 103, 'dx': 104, 'dy': 105, 'dz': 106, 'd.': 107, 'ea': 108, 'eb': 109, 'ec': 110, 'ed': 111, 'ee': 112, 'ef': 113, 'eg': 114, 'eh': 115, 'ei': 116, 'ej': 117, 'ek': 118, 'el': 119, 'em': 120, 'en': 121, 'eo': 122, 'ep': 123, 'eq': 124, 'er': 125, 'es': 126, 'et': 127, 'eu': 128, 'ev': 129, 'ew': 130, 'ex': 131, 'ey': 132, 'ez': 133, 'e.': 134, 'fa': 135, 'fb': 136, 'fc': 137, 'fd': 138, 'fe': 139, 'ff': 140, 'fg': 141, 'fh': 142, 'fi': 143, 'fj': 144, 'fk': 145, 'fl': 146, 'fm': 147, 'fn': 148, 'fo': 149, 'fp': 150, 'fq': 151, 'fr': 152, 'fs': 153, 'ft': 154, 'fu': 155, 'fv': 156, 'fw': 157, 'fx': 158, 'fy': 159, 'fz': 160, 'f.': 161, 'ga': 162, 'gb': 163, 'gc': 164, 'gd': 165, 'ge': 166, 'gf': 167, 'gg': 168, 'gh': 169, 'gi': 170, 'gj': 171, 'gk': 172, 'gl': 173, 'gm': 174, 'gn': 175, 'go': 176, 'gp': 177, 'gq': 178, 'gr': 179, 'gs': 180, 'gt': 181, 'gu': 182, 'gv': 183, 'gw': 184, 'gx': 185, 'gy': 186, 'gz': 187, 'g.': 188, 'ha': 189, 'hb': 190, 'hc': 191, 'hd': 192, 'he': 193, 'hf': 194, 'hg': 195, 'hh': 196, 'hi': 197, 'hj': 198, 'hk': 199, 'hl': 200, 'hm': 201, 'hn': 202, 'ho': 203, 'hp': 204, 'hq': 205, 'hr': 206, 'hs': 207, 'ht': 208, 'hu': 209, 'hv': 210, 'hw': 211, 'hx': 212, 'hy': 213, 'hz': 214, 'h.': 215, 'ia': 216, 'ib': 217, 'ic': 218, 'id': 219, 'ie': 220, 'if': 221, 'ig': 222, 'ih': 223, 'ii': 224, 'ij': 225, 'ik': 226, 'il': 227, 'im': 228, 'in': 229, 'io': 230, 'ip': 231, 'iq': 232, 'ir': 233, 'is': 234, 'it': 235, 'iu': 236, 'iv': 237, 'iw': 238, 'ix': 239, 'iy': 240, 'iz': 241, 'i.': 242, 'ja': 243, 'jb': 244, 'jc': 245, 'jd': 246, 'je': 247, 'jf': 248, 'jg': 249, 'jh': 250, 'ji': 251, 'jj': 252, 'jk': 253, 'jl': 254, 'jm': 255, 'jn': 256, 'jo': 257, 'jp': 258, 'jq': 259, 'jr': 260, 'js': 261, 'jt': 262, 'ju': 263, 'jv': 264, 'jw': 265, 'jx': 266, 'jy': 267, 'jz': 268, 'j.': 269, 'ka': 270, 'kb': 271, 'kc': 272, 'kd': 273, 'ke': 274, 'kf': 275, 'kg': 276, 'kh': 277, 'ki': 278, 'kj': 279, 'kk': 280, 'kl': 281, 'km': 282, 'kn': 283, 'ko': 284, 'kp': 285, 'kq': 286, 'kr': 287, 'ks': 288, 'kt': 289, 'ku': 290, 'kv': 291, 'kw': 292, 'kx': 293, 'ky': 294, 'kz': 295, 'k.': 296, 'la': 297, 'lb': 298, 'lc': 299, 'ld': 300, 'le': 301, 'lf': 302, 'lg': 303, 'lh': 304, 'li': 305, 'lj': 306, 'lk': 307, 'll': 308, 'lm': 309, 'ln': 310, 'lo': 311, 'lp': 312, 'lq': 313, 'lr': 314, 'ls': 315, 'lt': 316, 'lu': 317, 'lv': 318, 'lw': 319, 'lx': 320, 'ly': 321, 'lz': 322, 'l.': 323, 'ma': 324, 'mb': 325, 'mc': 326, 'md': 327, 'me': 328, 'mf': 329, 'mg': 330, 'mh': 331, 'mi': 332, 'mj': 333, 'mk': 334, 'ml': 335, 'mm': 336, 'mn': 337, 'mo': 338, 'mp': 339, 'mq': 340, 'mr': 341, 'ms': 342, 'mt': 343, 'mu': 344, 'mv': 345, 'mw': 346, 'mx': 347, 'my': 348, 'mz': 349, 'm.': 350, 'na': 351, 'nb': 352, 'nc': 353, 'nd': 354, 'ne': 355, 'nf': 356, 'ng': 357, 'nh': 358, 'ni': 359, 'nj': 360, 'nk': 361, 'nl': 362, 'nm': 363, 'nn': 364, 'no': 365, 'np': 366, 'nq': 367, 'nr': 368, 'ns': 369, 'nt': 370, 'nu': 371, 'nv': 372, 'nw': 373, 'nx': 374, 'ny': 375, 'nz': 376, 'n.': 377, 'oa': 378, 'ob': 379, 'oc': 380, 'od': 381, 'oe': 382, 'of': 383, 'og': 384, 'oh': 385, 'oi': 386, 'oj': 387, 'ok': 388, 'ol': 389, 'om': 390, 'on': 391, 'oo': 392, 'op': 393, 'oq': 394, 'or': 395, 'os': 396, 'ot': 397, 'ou': 398, 'ov': 399, 'ow': 400, 'ox': 401, 'oy': 402, 'oz': 403, 'o.': 404, 'pa': 405, 'pb': 406, 'pc': 407, 'pd': 408, 'pe': 409, 'pf': 410, 'pg': 411, 'ph': 412, 'pi': 413, 'pj': 414, 'pk': 415, 'pl': 416, 'pm': 417, 'pn': 418, 'po': 419, 'pp': 420, 'pq': 421, 'pr': 422, 'ps': 423, 'pt': 424, 'pu': 425, 'pv': 426, 'pw': 427, 'px': 428, 'py': 429, 'pz': 430, 'p.': 431, 'qa': 432, 'qb': 433, 'qc': 434, 'qd': 435, 'qe': 436, 'qf': 437, 'qg': 438, 'qh': 439, 'qi': 440, 'qj': 441, 'qk': 442, 'ql': 443, 'qm': 444, 'qn': 445, 'qo': 446, 'qp': 447, 'qq': 448, 'qr': 449, 'qs': 450, 'qt': 451, 'qu': 452, 'qv': 453, 'qw': 454, 'qx': 455, 'qy': 456, 'qz': 457, 'q.': 458, 'ra': 459, 'rb': 460, 'rc': 461, 'rd': 462, 're': 463, 'rf': 464, 'rg': 465, 'rh': 466, 'ri': 467, 'rj': 468, 'rk': 469, 'rl': 470, 'rm': 471, 'rn': 472, 'ro': 473, 'rp': 474, 'rq': 475, 'rr': 476, 'rs': 477, 'rt': 478, 'ru': 479, 'rv': 480, 'rw': 481, 'rx': 482, 'ry': 483, 'rz': 484, 'r.': 485, 'sa': 486, 'sb': 487, 'sc': 488, 'sd': 489, 'se': 490, 'sf': 491, 'sg': 492, 'sh': 493, 'si': 494, 'sj': 495, 'sk': 496, 'sl': 497, 'sm': 498, 'sn': 499, 'so': 500, 'sp': 501, 'sq': 502, 'sr': 503, 'ss': 504, 'st': 505, 'su': 506, 'sv': 507, 'sw': 508, 'sx': 509, 'sy': 510, 'sz': 511, 's.': 512, 'ta': 513, 'tb': 514, 'tc': 515, 'td': 516, 'te': 517, 'tf': 518, 'tg': 519, 'th': 520, 'ti': 521, 'tj': 522, 'tk': 523, 'tl': 524, 'tm': 525, 'tn': 526, 'to': 527, 'tp': 528, 'tq': 529, 'tr': 530, 'ts': 531, 'tt': 532, 'tu': 533, 'tv': 534, 'tw': 535, 'tx': 536, 'ty': 537, 'tz': 538, 't.': 539, 'ua': 540, 'ub': 541, 'uc': 542, 'ud': 543, 'ue': 544, 'uf': 545, 'ug': 546, 'uh': 547, 'ui': 548, 'uj': 549, 'uk': 550, 'ul': 551, 'um': 552, 'un': 553, 'uo': 554, 'up': 555, 'uq': 556, 'ur': 557, 'us': 558, 'ut': 559, 'uu': 560, 'uv': 561, 'uw': 562, 'ux': 563, 'uy': 564, 'uz': 565, 'u.': 566, 'va': 567, 'vb': 568, 'vc': 569, 'vd': 570, 've': 571, 'vf': 572, 'vg': 573, 'vh': 574, 'vi': 575, 'vj': 576, 'vk': 577, 'vl': 578, 'vm': 579, 'vn': 580, 'vo': 581, 'vp': 582, 'vq': 583, 'vr': 584, 'vs': 585, 'vt': 586, 'vu': 587, 'vv': 588, 'vw': 589, 'vx': 590, 'vy': 591, 'vz': 592, 'v.': 593, 'wa': 594, 'wb': 595, 'wc': 596, 'wd': 597, 'we': 598, 'wf': 599, 'wg': 600, 'wh': 601, 'wi': 602, 'wj': 603, 'wk': 604, 'wl': 605, 'wm': 606, 'wn': 607, 'wo': 608, 'wp': 609, 'wq': 610, 'wr': 611, 'ws': 612, 'wt': 613, 'wu': 614, 'wv': 615, 'ww': 616, 'wx': 617, 'wy': 618, 'wz': 619, 'w.': 620, 'xa': 621, 'xb': 622, 'xc': 623, 'xd': 624, 'xe': 625, 'xf': 626, 'xg': 627, 'xh': 628, 'xi': 629, 'xj': 630, 'xk': 631, 'xl': 632, 'xm': 633, 'xn': 634, 'xo': 635, 'xp': 636, 'xq': 637, 'xr': 638, 'xs': 639, 'xt': 640, 'xu': 641, 'xv': 642, 'xw': 643, 'xx': 644, 'xy': 645, 'xz': 646, 'x.': 647, 'ya': 648, 'yb': 649, 'yc': 650, 'yd': 651, 'ye': 652, 'yf': 653, 'yg': 654, 'yh': 655, 'yi': 656, 'yj': 657, 'yk': 658, 'yl': 659, 'ym': 660, 'yn': 661, 'yo': 662, 'yp': 663, 'yq': 664, 'yr': 665, 'ys': 666, 'yt': 667, 'yu': 668, 'yv': 669, 'yw': 670, 'yx': 671, 'yy': 672, 'yz': 673, 'y.': 674, 'za': 675, 'zb': 676, 'zc': 677, 'zd': 678, 'ze': 679, 'zf': 680, 'zg': 681, 'zh': 682, 'zi': 683, 'zj': 684, 'zk': 685, 'zl': 686, 'zm': 687, 'zn': 688, 'zo': 689, 'zp': 690, 'zq': 691, 'zr': 692, 'zs': 693, 'zt': 694, 'zu': 695, 'zv': 696, 'zw': 697, 'zx': 698, 'zy': 699, 'zz': 700, 'z.': 701, '.a': 702, '.b': 703, '.c': 704, '.d': 705, '.e': 706, '.f': 707, '.g': 708, '.h': 709, '.i': 710, '.j': 711, '.k': 712, '.l': 713, '.m': 714, '.n': 715, '.o': 716, '.p': 717, '.q': 718, '.r': 719, '.s': 720, '.t': 721, '.u': 722, '.v': 723, '.w': 724, '.x': 725, '.y': 726, '.z': 727, '..': 728}\n"
     ]
    }
   ],
   "source": [
    "special = '.'\n",
    "chars = sorted(list((set(''.join(words)))))\n",
    "stoi = {s:i+1 for i, s in enumerate(chars)}\n",
    "stoi[special] = 0\n",
    "itos = {i:s for s, i in stoi.items()}\n",
    "\n",
    "more_chars = sorted(list((set(''.join(words)))))\n",
    "more_chars.extend(special)\n",
    "\n",
    "char_pairs = [ch1 + ch2 for ch1 in more_chars for ch2 in more_chars]\n",
    "ptoi = {s:i for i, s in enumerate(char_pairs)}\n",
    "itop = {i:s for s, i in ptoi.items()}\n",
    "\n",
    "# print(itop)\n",
    "print(ptoi)"
   ]
  },
  {
   "cell_type": "code",
   "execution_count": 499,
   "id": "227411f4-9087-4bc0-ab8a-be142823a9c7",
   "metadata": {},
   "outputs": [],
   "source": [
    "import torch"
   ]
  },
  {
   "cell_type": "code",
   "execution_count": 500,
   "id": "9398a3da-8f8c-40af-8047-2c81f064083d",
   "metadata": {},
   "outputs": [],
   "source": [
    "N = torch.zeros((27, 27), dtype=torch.int32)\n",
    "N2 = torch.zeros((16, 27), dtype=torch.int32)\n",
    "N2 = torch.zeros((728, 27), dtype=torch.int32)"
   ]
  },
  {
   "cell_type": "code",
   "execution_count": 532,
   "id": "336d1746-0d6e-4d68-990d-21e88182f2cb",
   "metadata": {},
   "outputs": [],
   "source": [
    "for w in words:\n",
    "    characters = [special] + list(w) + [special]\n",
    "    for ch1, ch2 in zip(characters, characters[1:]):\n",
    "        # numerical representation of character\n",
    "        ix1 = stoi[ch1]\n",
    "        ix2 = stoi[ch2]\n",
    "        \n",
    "        # increment counter in coordinates of related \"bigram\"\n",
    "        N[ix1, ix2] += 1\n",
    "\n",
    "    ### trinomial part\n",
    "\n",
    "    characters = [special] + list(w) + [special]\n",
    "    # print(characters)\n",
    "    \n",
    "    for ch1, ch2, ch3 in zip(characters, characters[1:], characters[2:]):\n",
    "        # numerical representation of character\n",
    "        # print(ch1,ch2,ch3)\n",
    "        ix1 = ptoi[ch1+ch2]\n",
    "        ix2 = stoi[ch3]\n",
    "        \n",
    "        \n",
    "        # print(ch1+ch2, ch3, ix1, ix2)\n",
    "        # increment counter in coordinates of related \"bigram\"\n",
    "        N2[ix1, ix2] += 1"
   ]
  },
  {
   "cell_type": "code",
   "execution_count": null,
   "id": "3856b3ae-d934-48c7-897d-2781ca100177",
   "metadata": {
    "scrolled": true
   },
   "outputs": [],
   "source": [
    "import matplotlib.pyplot as plt\n",
    "%matplotlib inline\n",
    "\n",
    "plt.figure(figsize=(16,16))\n",
    "plt.imshow(N, cmap='Reds')\n",
    "for i in range(27):\n",
    "    for j in range(27):\n",
    "        # skip drawing [start,end] cell\n",
    "        if (i == j == 0):\n",
    "            continue\n",
    "            \n",
    "        chstr = itos[i] + itos[j]\n",
    "        style_props = {\"ha\":\"center\",  \"color\":\"gray\"}\n",
    "        plt.text(j, i, chstr, **style_props, va=\"bottom\")\n",
    "        plt.text(j, i, N[i, j].item(), **style_props, va=\"top\")\n",
    "plt.axis('off')"
   ]
  },
  {
   "cell_type": "code",
   "execution_count": null,
   "id": "55de4e30-af2d-4abd-adb8-94f7b6737ae3",
   "metadata": {
    "scrolled": true
   },
   "outputs": [],
   "source": [
    "plt.figure(figsize=(64,64))\n",
    "plt.imshow(N2, cmap='Purples')\n",
    "plt.axis('off')"
   ]
  },
  {
   "cell_type": "code",
   "execution_count": null,
   "id": "797223de-1ef8-4c98-9a1c-2b6cbd8e5c01",
   "metadata": {},
   "outputs": [],
   "source": [
    "P = N.float()\n",
    "\n",
    "# normalize each each element in each row with respect to\n",
    "# all other elements in the same row\n",
    "# e.g. X = [\n",
    "#            [1,2,3],\n",
    "#            [1,1,1],\n",
    "#          ]\n",
    "# dimension = 1 <-- columns\n",
    "# X = X / X.sum(dimenstion, keepdim=True)\n",
    "# X\n",
    "# [\n",
    "#    [0.16, 0.33, 0.5],\n",
    "#    [0.33, 0,33, 0,33]\n",
    "# ]\n",
    "\n",
    "P = P / P.sum(1, keepdim=True)\n",
    "P2 = N2.float()\n",
    "P2 = P2 / P2.sum(1, keepdim=True)\n"
   ]
  },
  {
   "cell_type": "code",
   "execution_count": null,
   "id": "6859c46e-b7e1-491e-bc6d-6c31d47b8ec4",
   "metadata": {},
   "outputs": [],
   "source": [
    "def get_next_index(probab, current_index):\n",
    "    p = probab[current_index]\n",
    "    ix = torch.multinomial(p, num_samples=1, replacement=True).item()\n",
    "    return ix"
   ]
  },
  {
   "cell_type": "code",
   "execution_count": 531,
   "id": "9fb6f69b-bf22-4688-87b2-df3e1536cf96",
   "metadata": {},
   "outputs": [
    {
     "name": "stdout",
     "output_type": "stream",
     "text": [
      "bigrams:\n",
      "aicen\n",
      "sth\n",
      "ma\n",
      "chrpele\n",
      "br\n",
      "\n",
      "\n",
      "\n",
      "trigrams\n",
      "=====\n",
      "maxim\n",
      "mellaric\n",
      "andandon\n",
      "axim\n",
      "wily\n"
     ]
    }
   ],
   "source": [
    "print('bigrams:')\n",
    "for _ in range(5):\n",
    "    index = 0\n",
    "    name = ''\n",
    "    names = []\n",
    "    while True:\n",
    "        index = get_next_index(P, index)\n",
    "        # print(index)\n",
    "        name += itos[index]\n",
    "        if index == 0:\n",
    "            names.extend(name)\n",
    "            break\n",
    "\n",
    "    print(''.join(names)[:-1])\n",
    "\n",
    "print()\n",
    "print()\n",
    "print()\n",
    "print('trigrams')\n",
    "print('=====')\n",
    "for _ in range(5):\n",
    "    counter = 0\n",
    "    index = 0\n",
    "    name = ''\n",
    "    names = []\n",
    "    while True:\n",
    "        if counter < 2:\n",
    "            index = get_next_index(P, index)\n",
    "            name += itos[index]\n",
    "        else:\n",
    "            lp = name[-2:]\n",
    "            index_of_last_pair = ptoi[lp]\n",
    "            \n",
    "            index = get_next_index(P2, index_of_last_pair)\n",
    "            name += itos[index]\n",
    "            # print('last pair and index:', lp, itos[index])\n",
    "        \n",
    "        # print('out index', index, '\\n')\n",
    "        counter += 1\n",
    "        if name[-1:] == '.':\n",
    "            names.extend(name)\n",
    "            name = ''\n",
    "            break\n",
    "\n",
    "    print(''.join(names)[:-1])"
   ]
  },
  {
   "cell_type": "code",
   "execution_count": 530,
   "id": "17711b7b-217d-4ea9-a67a-e4fba9176620",
   "metadata": {},
   "outputs": [
    {
     "name": "stdout",
     "output_type": "stream",
     "text": [
      "inf\n"
     ]
    }
   ],
   "source": [
    "log_likelihood = 0.0\n",
    "n = 0\n",
    "for w in words:\n",
    "# for w in ['mm']:\n",
    "    characters = [special] + list(w) + [special]\n",
    "    for ch1, ch2 in zip(characters, characters[1:]):\n",
    "        # numerical representation of character\n",
    "        ix1 = stoi[ch1]\n",
    "        ix2 = stoi[ch2]\n",
    "\n",
    "        prob = P[ix1, ix2]\n",
    "        logprob = torch.log(prob)\n",
    "        log_likelihood += logprob\n",
    "        n += 1\n",
    "\n",
    "nll = -log_likelihood\n",
    "print(f'{nll/n}')"
   ]
  },
  {
   "cell_type": "code",
   "execution_count": 422,
   "id": "a05bf3f2-262d-4b15-a062-0a4d51aa74a5",
   "metadata": {
    "scrolled": true
   },
   "outputs": [
    {
     "name": "stdout",
     "output_type": "stream",
     "text": [
      ". m\n",
      "m a\n",
      "a m\n",
      "m .\n",
      ". m\n",
      "m a\n",
      "a x\n",
      "x .\n"
     ]
    }
   ],
   "source": [
    "# lets create a training set of bigrams (x, y)\n",
    "xs, ys = [], []\n",
    "\n",
    "for w in words:\n",
    "    chs = [special] + list(w) + [special]\n",
    "    for ch1, ch2 in zip(chs, chs[1:]):\n",
    "        ix1 = stoi[ch1]\n",
    "        ix2 = stoi[ch2]\n",
    "        print(ch1,ch2)\n",
    "        xs.append(ix1)\n",
    "        ys.append(ix2)\n",
    "\n",
    "xs = torch.tensor(xs)\n",
    "ys = torch.tensor(ys)\n",
    "num = xs.nelement()"
   ]
  },
  {
   "cell_type": "code",
   "execution_count": 423,
   "id": "c960c638-dd46-4b4e-9a21-40a5455b52bc",
   "metadata": {},
   "outputs": [],
   "source": [
    "import torch.nn.functional as F"
   ]
  },
  {
   "cell_type": "code",
   "execution_count": 424,
   "id": "fe62f32e-4dbd-406c-9d71-035d2c5e39a6",
   "metadata": {},
   "outputs": [],
   "source": [
    "# initialize 27 neurons' weights, each of them receives 27 inputs\n",
    "W = torch.randn((27, 27), requires_grad=True)"
   ]
  },
  {
   "cell_type": "code",
   "execution_count": 425,
   "id": "ad4fec4f-9aaa-4a49-a726-cb7daabcdde8",
   "metadata": {},
   "outputs": [],
   "source": [
    "# forward pass vvvv\n",
    "for k in range(200):\n",
    "    # convert each of the examples from bigrams to one-hot representation\n",
    "    xenc = F.one_hot(xs, num_classes=27).float()\n",
    "    # predict log-counts\n",
    "    logits  = xenc @ W\n",
    "    # counts, equivalent to what we have in N\n",
    "    counts = logits.exp()\n",
    "    # probabilities for next character\n",
    "    probs = counts / counts.sum(1, keepdims=True)\n",
    "    \n",
    "    loss = -probs[torch.arange(num), ys].log().mean()"
   ]
  },
  {
   "cell_type": "code",
   "execution_count": 426,
   "id": "99809e9e-fd6c-4742-9b94-1bc1ee9b2f8f",
   "metadata": {},
   "outputs": [
    {
     "name": "stdout",
     "output_type": "stream",
     "text": [
      "4.155803203582764\n"
     ]
    }
   ],
   "source": [
    "print(loss.item())"
   ]
  },
  {
   "cell_type": "code",
   "execution_count": 18,
   "id": "cd71aa9f-f8c8-4215-ba11-e8d3cb1ba097",
   "metadata": {},
   "outputs": [],
   "source": [
    "# backward pass\n",
    "W.grad = None \n",
    "loss.backward()"
   ]
  },
  {
   "cell_type": "code",
   "execution_count": 19,
   "id": "1f76f5c0-9633-40ea-bc45-f37c90f6cb4c",
   "metadata": {},
   "outputs": [],
   "source": [
    "W.data += -80 * W.grad"
   ]
  },
  {
   "cell_type": "code",
   "execution_count": 20,
   "id": "ea602d3f-2420-4ca4-978a-7000b40f2790",
   "metadata": {},
   "outputs": [
    {
     "name": "stdout",
     "output_type": "stream",
     "text": [
      "efnmibzfvyeonfnsenphzaefvevgaphi.\n",
      "jhdeycgvntdejontpkueocxhzacoxycqwpankzaoatck.\n",
      "j.\n",
      "roidmife.\n",
      "qjfjhwe.\n",
      "hoguaifduyqmatpaovol.\n",
      "y.\n",
      "asfbhjhwqmpn.\n",
      "ponoa.\n",
      "cxokpkvtaumxwtottprsya.\n",
      "wcfxeduatyhuipcsyhicxhdey.\n",
      "czuuatxxtysjyrenn.\n",
      "enki.\n",
      "hdiaqmiaxtyenibcgz.\n",
      "za.\n",
      "wl.\n",
      "vncvwwtdeyrrrkzanduar.\n",
      "eopa.\n",
      "ecx.\n",
      "vhakrvmwhutd.\n"
     ]
    }
   ],
   "source": [
    "for _ in range(20):\n",
    "    index = 0\n",
    "    name = ''\n",
    "    names = []\n",
    "    while True:\n",
    "        xenc = F.one_hot(torch.tensor([index]), num_classes=27).float()\n",
    "        logits = xenc @ W\n",
    "        counts = logits.exp()\n",
    "        p = counts / counts.sum(1, keepdims=True)\n",
    "\n",
    "\n",
    "        index = torch.multinomial(p, num_samples=1, replacement=True).item()\n",
    "\n",
    "        name += itos[index]\n",
    "        if index == 0:\n",
    "            names.extend(name)\n",
    "            break\n",
    "\n",
    "    print(''.join(names))"
   ]
  },
  {
   "cell_type": "code",
   "execution_count": null,
   "id": "dba61c0a-8443-4b7d-8104-bf647dccc564",
   "metadata": {},
   "outputs": [],
   "source": []
  },
  {
   "cell_type": "code",
   "execution_count": null,
   "id": "50db24ee-8ba7-4756-8c34-2e797a6c0876",
   "metadata": {},
   "outputs": [],
   "source": []
  },
  {
   "cell_type": "code",
   "execution_count": null,
   "id": "b0bb0d84-7c2f-471f-957f-f92cd57a9060",
   "metadata": {},
   "outputs": [],
   "source": []
  },
  {
   "cell_type": "markdown",
   "id": "664aecf3-bd21-4b5f-95bc-cf6c1beff05e",
   "metadata": {},
   "source": []
  }
 ],
 "metadata": {
  "kernelspec": {
   "display_name": "Python 3 (ipykernel)",
   "language": "python",
   "name": "python3"
  },
  "language_info": {
   "codemirror_mode": {
    "name": "ipython",
    "version": 3
   },
   "file_extension": ".py",
   "mimetype": "text/x-python",
   "name": "python",
   "nbconvert_exporter": "python",
   "pygments_lexer": "ipython3",
   "version": "3.12.3"
  }
 },
 "nbformat": 4,
 "nbformat_minor": 5
}
