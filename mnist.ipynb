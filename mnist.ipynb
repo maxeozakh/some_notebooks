{
 "cells": [
  {
   "cell_type": "code",
   "execution_count": 105,
   "id": "b46684b7-1684-4990-9a5c-d97fcedf3b87",
   "metadata": {},
   "outputs": [],
   "source": [
    "import torch\n",
    "import torch.nn.functional as F\n",
    "import torch.nn as nn\n",
    "\n",
    "import fastai.vision.all as fai\n",
    "\n",
    "from torchvision import transforms\n",
    "from PIL import Image\n",
    "\n",
    "import matplotlib.pyplot as plt\n",
    "%matplotlib inline\n",
    "import random"
   ]
  },
  {
   "cell_type": "code",
   "execution_count": 106,
   "id": "3af8040a-e73f-4766-b28d-69c6a42335b8",
   "metadata": {},
   "outputs": [],
   "source": [
    "path_to_imgs = fai.untar_data(fai.URLs.MNIST)"
   ]
  },
  {
   "cell_type": "code",
   "execution_count": 107,
   "id": "cff5608e-9eb3-456e-962e-77d809b79280",
   "metadata": {},
   "outputs": [
    {
     "data": {
      "text/plain": [
       "Path('/Users/mxz/.fastai/data/mnist_png')"
      ]
     },
     "execution_count": 107,
     "metadata": {},
     "output_type": "execute_result"
    }
   ],
   "source": [
    "path_to_imgs"
   ]
  },
  {
   "cell_type": "code",
   "execution_count": 108,
   "id": "0ab5abab-b2b6-478f-b215-b1ae863da71d",
   "metadata": {},
   "outputs": [
    {
     "data": {
      "text/plain": [
       "(#2) [Path('/Users/mxz/.fastai/data/mnist_png/training'),Path('/Users/mxz/.fastai/data/mnist_png/testing')]"
      ]
     },
     "execution_count": 108,
     "metadata": {},
     "output_type": "execute_result"
    }
   ],
   "source": [
    "path_to_imgs.ls()"
   ]
  },
  {
   "cell_type": "code",
   "execution_count": 109,
   "id": "448f174f-b07e-4404-a381-6e349f6158e6",
   "metadata": {},
   "outputs": [],
   "source": [
    "numbers_to_detect = 9"
   ]
  },
  {
   "cell_type": "code",
   "execution_count": 110,
   "id": "01fa918d-45d4-496a-984c-9099a7e8252c",
   "metadata": {},
   "outputs": [
    {
     "data": {
      "text/plain": [
       "(torch.Size([54077, 28, 28]),\n",
       " torch.Size([54077]),\n",
       " torch.Size([9020, 28, 28]),\n",
       " torch.Size([9020]),\n",
       " tensor(0))"
      ]
     },
     "execution_count": 110,
     "metadata": {},
     "output_type": "execute_result"
    }
   ],
   "source": [
    "training_image_tensors = torch.cat(\n",
    "    [transforms.PILToTensor()(Image.open(x)) \n",
    "     for i in range(1, numbers_to_detect+1) \n",
    "     for x in (path_to_imgs/f'training/{i}').ls().sorted()]\n",
    ").float()\n",
    "\n",
    "testing_image_tensors = torch.cat(\n",
    "    [transforms.PILToTensor()(Image.open(x)) \n",
    "     for i in range(1, numbers_to_detect+1) \n",
    "     for x in (path_to_imgs/f'testing/{i}').ls().sorted()]\n",
    ").float()\n",
    "training_y = torch.stack([torch.tensor(i-1)\n",
    "     for i in range(1, numbers_to_detect+1) \n",
    "     for x in (path_to_imgs/f'training/{i}').ls().sorted()])\n",
    "testing_y = torch.stack([torch.tensor(i-1)\n",
    "     for i in range(1, numbers_to_detect+1) \n",
    "     for x in (path_to_imgs/f'testing/{i}').ls().sorted()])\n",
    "training_image_tensors.size(), training_y.size(), testing_image_tensors.size(), testing_y.size(), testing_y[0]"
   ]
  },
  {
   "cell_type": "code",
   "execution_count": 111,
   "id": "ab7b8145-bc12-4fb3-9b24-d9b6e9eb08b2",
   "metadata": {},
   "outputs": [
    {
     "name": "stdout",
     "output_type": "stream",
     "text": [
      "torch.Size([784, 9])\n",
      "torch.Size([54077, 784])\n",
      "torch.Size([54077])\n",
      "54077\n"
     ]
    }
   ],
   "source": [
    "n_neurons = numbers_to_detect\n",
    "\n",
    "# l1\n",
    "w1 = torch.randn((28*28, n_neurons)) * 0.1\n",
    "params = [w1]\n",
    "\n",
    "# l2 attempts\n",
    "# hidden_neurons = 32  # Intermediate feature size\n",
    "# w1 = torch.randn((28*28, hidden_neurons)) * 0.01  \n",
    "# w2 = torch.randn((hidden_neurons, n_neurons)) * 0.01  \n",
    "# b1 = torch.zeros(hidden_neurons)\n",
    "# b2 = torch.zeros(n_neurons)\n",
    "# params = [w1, b1, w2, b2]\n",
    "\n",
    "        \n",
    "for p in params:\n",
    "    p.requires_grad = True\n",
    "\n",
    "\n",
    "x_tr = training_image_tensors.view((training_image_tensors.size()[0], training_image_tensors.size()[1]**2))\n",
    "y_tr = training_y\n",
    "x_test = testing_image_tensors.view((testing_image_tensors.size()[0], testing_image_tensors.size()[1]**2))\n",
    "y_test = testing_y\n",
    "\n",
    "steps = []\n",
    "losses = []\n",
    "counter = 0\n",
    "\n",
    "n_epoch = 2\n",
    "tr_samples_len = x_tr.size()[0]\n",
    "test_samples_len = x_test.size()[0]\n",
    "indices = torch.randperm(tr_samples_len)\n",
    "\n",
    "print(w1.size())\n",
    "print(x_tr.size())\n",
    "print(y_tr.size())\n",
    "print(tr_samples_len)"
   ]
  },
  {
   "cell_type": "code",
   "execution_count": 112,
   "id": "f9b39ed3-855a-4ab0-9c53-7eab57f52444",
   "metadata": {},
   "outputs": [],
   "source": [
    "for epoch in range(n_epoch):\n",
    "    for i in range(tr_samples_len):\n",
    "        idx = indices[i]\n",
    "        x = x_tr[idx]\n",
    "        y = y_tr[idx]\n",
    "\n",
    "        logits = (x @ w1)\n",
    "        logits_min, logits_max = logits.min(), logits.max()\n",
    "        logits_scaled = (logits - logits_min) / (logits_max - logits_min)\n",
    "        preds = torch.softmax(logits_scaled, dim=0)  \n",
    "\n",
    "\n",
    "        # l1 = (x @ w1) + b1\n",
    "        # l1_activated = torch.relu(l1)  # First layer with ReLU\n",
    "        # logits = (l1_activated @ w2) + b2  # Second layer (output)\n",
    "        # loss = F.cross_entropy(logits.unsqueeze(0), y.unsqueeze(0))\n",
    "        # TODO: What it does, how can be done manually? Why we need it?\n",
    "        # torch.nn.utils.clip_grad_norm_(params, max_norm=25.0)\n",
    "        \n",
    "        loss = -torch.log(preds[y])\n",
    "        \n",
    "        for p in params:\n",
    "                p.grad = None\n",
    "        loss.backward()\n",
    "        \n",
    "        # # update\n",
    "        lr = 0.5 if counter < tr_samples_len // 2 else 0.01\n",
    "        for p in params:\n",
    "             p.data -= lr * p.grad\n",
    "            \n",
    "        steps.append(counter)\n",
    "        losses.append(loss.item())\n",
    "        counter += 1"
   ]
  },
  {
   "cell_type": "code",
   "execution_count": 113,
   "id": "85da89e3-f449-4483-b54f-3cb186c7e9b1",
   "metadata": {},
   "outputs": [
    {
     "data": {
      "text/plain": [
       "[<matplotlib.lines.Line2D at 0x144055be0>]"
      ]
     },
     "execution_count": 113,
     "metadata": {},
     "output_type": "execute_result"
    },
    {
     "data": {
      "image/png": "[encoded data removed]",
      "text/plain": [
       "<Figure size 640x480 with 1 Axes>"
      ]
     },
     "metadata": {},
     "output_type": "display_data"
    }
   ],
   "source": [
    "plt.plot(steps, losses)"
   ]
  },
  {
   "cell_type": "code",
   "execution_count": 114,
   "id": "0e194002-ffac-4fde-a6f1-7e3763184770",
   "metadata": {},
   "outputs": [
    {
     "name": "stdout",
     "output_type": "stream",
     "text": [
      "Validation Accuracy: 98.05%\n"
     ]
    }
   ],
   "source": [
    "results = []\n",
    "\n",
    "for i in range(test_samples_len):\n",
    "    x = x_test[i]\n",
    "    y = y_test[i]\n",
    "\n",
    "    logits = x @ w1\n",
    "    logits_min, logits_max = logits.min(), logits.max()\n",
    "    logits_scaled = (logits - logits_min) / (logits_max - logits_min)\n",
    "    preds = torch.softmax(logits_scaled, dim=0)  \n",
    "    \n",
    "    results.append(preds[y])\n",
    "\n",
    "correct_results = [r for r in results if r > 1 / numbers_to_detect]\n",
    "accuracy = len(correct_results) * 100 / len(results)\n",
    "print(f\"Validation Accuracy: {accuracy:.2f}%\")"
   ]
  }
 ],
 "metadata": {
  "kernelspec": {
   "display_name": "Python 3 (ipykernel)",
   "language": "python",
   "name": "python3"
  },
  "language_info": {
   "codemirror_mode": {
    "name": "ipython",
    "version": 3
   },
   "file_extension": ".py",
   "mimetype": "text/x-python",
   "name": "python",
   "nbconvert_exporter": "python",
   "pygments_lexer": "ipython3",
   "version": "3.12.3"
  }
 },
 "nbformat": 4,
 "nbformat_minor": 5
}
