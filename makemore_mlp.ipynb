{
 "cells": [
  {
   "cell_type": "code",
   "execution_count": 240,
   "id": "5357e46a-cc87-4be0-b0c8-788de09bad5f",
   "metadata": {},
   "outputs": [],
   "source": [
    "import torch\n",
    "import torch.nn.functional as F\n",
    "import matplotlib.pyplot as plt\n",
    "import time\n",
    "%matplotlib inline"
   ]
  },
  {
   "cell_type": "code",
   "execution_count": 241,
   "id": "2bf39f61-eb7a-4c60-bdd9-2e471ba8a485",
   "metadata": {},
   "outputs": [],
   "source": [
    "words = open('names.txt', 'r').read().splitlines()"
   ]
  },
  {
   "cell_type": "code",
   "execution_count": 242,
   "id": "803d63e1-74e8-49d6-aa2d-3ad324199be4",
   "metadata": {},
   "outputs": [],
   "source": [
    "chars = sorted(list(set(''.join(words))))\n",
    "stoi = {s:i+1 for i, s in enumerate(chars)}\n",
    "stoi['.'] = 0\n",
    "itos = {i:s for s,i in stoi.items()}"
   ]
  },
  {
   "cell_type": "code",
   "execution_count": 243,
   "id": "8e649698-49f6-4f44-b805-ce07a655533a",
   "metadata": {},
   "outputs": [],
   "source": [
    "block_size = 4\n",
    "emb_size = 5\n",
    "n_neurons = 1000"
   ]
  },
  {
   "cell_type": "code",
   "execution_count": 250,
   "id": "525a85fa-ef25-4d42-8a8d-00a1297029c5",
   "metadata": {},
   "outputs": [
    {
     "name": "stdout",
     "output_type": "stream",
     "text": [
      "torch.Size([182580, 4]) torch.Size([182580])\n",
      "torch.Size([22767, 4]) torch.Size([22767])\n",
      "torch.Size([22799, 4]) torch.Size([22799])\n"
     ]
    }
   ],
   "source": [
    "# build dataset\n",
    "\n",
    "def build_dataset(words):\n",
    "    \n",
    "    X, Y = [], []\n",
    "    for w in words:\n",
    "        context = [0] * block_size \n",
    "        for ch in w + '.':\n",
    "            ix = stoi[ch] # index of current character\n",
    "            X.append(context)\n",
    "            Y.append(ix)\n",
    "            # print(''.join(itos[i] for i in context), '--->', itos[ix])\n",
    "          \n",
    "            context = context[1:] + [ix] # sliding window with indexes\n",
    "     \n",
    "    \n",
    "    X = torch.tensor(X)\n",
    "    Y = torch.tensor(Y)\n",
    "    print(X.shape, Y.shape)\n",
    "    return X, Y\n",
    "\n",
    "import random\n",
    "random.seed(42)\n",
    "random.shuffle(words)\n",
    "n1 = int(0.8*len(words))\n",
    "n2 = int(0.9*len(words))\n",
    "\n",
    "X_tr, Y_tr = build_dataset(words[:n1])\n",
    "X_dev, Y_dev = build_dataset(words[n1:n2])\n",
    "X_te, Y_te = build_dataset(words[n2:])"
   ]
  },
  {
   "cell_type": "code",
   "execution_count": 293,
   "id": "66d05ec5-b6c5-42fc-bdd3-9fa249bbbf74",
   "metadata": {},
   "outputs": [
    {
     "name": "stdout",
     "output_type": "stream",
     "text": [
      "48162\n"
     ]
    }
   ],
   "source": [
    "# lookup table for embed\n",
    "g = torch.Generator().manual_seed(2147483647)\n",
    "C = torch.randn((27, emb_size), generator=g)\n",
    "# hidden layer \n",
    "W1 = torch.randn((emb_size*block_size, n_neurons), generator=g)\n",
    "b1 = torch.randn(n_neurons, generator=g)\n",
    "# output layer\n",
    "W2 = torch.randn((n_neurons, 27), generator=g)\n",
    "b2 = torch.randn(27, generator=g)\n",
    "parameters = [C, W1, b1, W2, b2]\n",
    "\n",
    "# number of params\n",
    "print(sum(p.nelement() for p in parameters))\n",
    "\n",
    "for p in parameters:\n",
    "    p.requires_grad = True"
   ]
  },
  {
   "cell_type": "code",
   "execution_count": 294,
   "id": "8d0403b2-41bd-4063-8646-e6a38728973f",
   "metadata": {},
   "outputs": [],
   "source": [
    "lri = []\n",
    "lossi = []\n",
    "stepi = []"
   ]
  },
  {
   "cell_type": "code",
   "execution_count": 295,
   "id": "a17a18ed-b138-4670-b5d8-895bf4b03c8d",
   "metadata": {},
   "outputs": [],
   "source": [
    "initial_iterations = 25000\n",
    "counter = 0"
   ]
  },
  {
   "cell_type": "code",
   "execution_count": 343,
   "id": "ba141dfb-1b55-47e4-8106-eae0865bcaf6",
   "metadata": {},
   "outputs": [
    {
     "name": "stdout",
     "output_type": "stream",
     "text": [
      "initial lr 0.0001\n",
      "training done in 11.511224031448364\n"
     ]
    }
   ],
   "source": [
    "start_time = time.time()\n",
    "for i in range(initial_iterations):\n",
    "    if i == 1:\n",
    "        print('initial lr', lr)\n",
    "    # mini batch construct\n",
    "    ix = torch.randint(0, X_tr.shape[0], (128,))\n",
    "    \n",
    "    # forward pass\n",
    "    emb = C[X_tr[ix]] \n",
    "    embv = emb.view(emb.shape[0], block_size * emb_size) \n",
    "    \n",
    "    h = torch.tanh(embv @ W1 + b1) \n",
    "    logits = h @ W2 + b2 \n",
    "    loss = F.cross_entropy(logits, Y_tr[ix])\n",
    "    \n",
    "    # backward pass\n",
    "    for p in parameters:\n",
    "        p.grad = None\n",
    "    loss.backward()\n",
    "    \n",
    "    # update\n",
    "    lr = 0.5 if counter < initial_iterations / 2 else 0.1\n",
    "    \n",
    "    if counter > initial_iterations:\n",
    "        lr = 0.1 if counter < initial_iterations * 1.5 else 0.0001\n",
    "    for p in parameters:\n",
    "        p.data += -lr * p.grad\n",
    "\n",
    "    # track stats\n",
    "    stepi.append(counter)\n",
    "    lossi.append(loss.log10().item())\n",
    "\n",
    "    counter += 1\n",
    "    \n",
    "end_time = time.time()\n",
    "execution_time = end_time - start_time\n",
    "\n",
    "print('training done in', execution_time)"
   ]
  },
  {
   "cell_type": "code",
   "execution_count": 347,
   "id": "905c8371-2c93-411d-b7e0-d3db94592cda",
   "metadata": {},
   "outputs": [
    {
     "name": "stdout",
     "output_type": "stream",
     "text": [
      "2.1417417526245117\n"
     ]
    },
    {
     "data": {
      "image/png": "[encoded data removed]",
      "text/plain": [
       "<Figure size 640x480 with 1 Axes>"
      ]
     },
     "metadata": {},
     "output_type": "display_data"
    }
   ],
   "source": [
    "plt.plot(stepi, lossi)\n",
    "print(loss.item())"
   ]
  },
  {
   "cell_type": "code",
   "execution_count": 346,
   "id": "e9ad6ee3-4720-47fd-ad03-0f693df4fe55",
   "metadata": {},
   "outputs": [
    {
     "name": "stdout",
     "output_type": "stream",
     "text": [
      "torch.Size([22767, 27])\n"
     ]
    },
    {
     "data": {
      "text/plain": [
       "2.1417417526245117"
      ]
     },
     "execution_count": 346,
     "metadata": {},
     "output_type": "execute_result"
    }
   ],
   "source": [
    "# global loss (not local mini batch)\n",
    "\n",
    "emb = C[X_dev] # (32, 3, 2)\n",
    "embv = emb.view(emb.shape[0], emb_size*block_size) # 32, 6\n",
    "\n",
    "h = torch.tanh(embv @ W1 + b1) \n",
    "logits = h @ W2 + b2 \n",
    "print(logits.shape)\n",
    "loss = F.cross_entropy(logits, Y_dev)\n",
    "loss.item()"
   ]
  },
  {
   "cell_type": "code",
   "execution_count": 355,
   "id": "fd112a5d-b837-4321-98a0-55d85f4fb722",
   "metadata": {},
   "outputs": [
    {
     "name": "stdout",
     "output_type": "stream",
     "text": [
      "torch.Size([22799, 27])\n"
     ]
    },
    {
     "data": {
      "text/plain": [
       "2.159043312072754"
      ]
     },
     "execution_count": 355,
     "metadata": {},
     "output_type": "execute_result"
    }
   ],
   "source": [
    "# global loss (not local mini batch)\n",
    "\n",
    "emb = C[X_te] # (32, 3, 2)\n",
    "embv = emb.view(emb.shape[0], emb_size*block_size) # 32, 6\n",
    "\n",
    "h = torch.tanh(embv @ W1 + b1) \n",
    "logits = h @ W2 + b2 \n",
    "print(logits.shape)\n",
    "loss = F.cross_entropy(logits, Y_te)\n",
    "loss.item()"
   ]
  },
  {
   "cell_type": "code",
   "execution_count": 357,
   "id": "95a11a3e-94fc-4882-9ec9-a7399c4bb84f",
   "metadata": {},
   "outputs": [
    {
     "name": "stdout",
     "output_type": "stream",
     "text": [
      "krimitacourtni.\n",
      "yian.\n",
      "kailan.\n",
      "kean.\n",
      "jatai.\n",
      "winnryq.\n",
      "kachael.\n",
      "pyloe.\n",
      "chrib.\n",
      "alexe.\n",
      "emilington.\n",
      "massir.\n",
      "samaan.\n",
      "ellie.\n",
      "kylen.\n",
      "hara.\n",
      "edaleigh.\n",
      "them.\n",
      "lavonandon.\n",
      "halayzion.\n"
     ]
    }
   ],
   "source": [
    "for _ in range(20):\n",
    "    out = []\n",
    "    context = [0] * block_size\n",
    "    while True:\n",
    "        emb = C[torch.tensor([context])] \n",
    "        h = torch.tanh(emb.view(1, -1) @ W1 + b1)\n",
    "        logits = h @ W2 + b2\n",
    "        probs = F.softmax(logits, dim=1)\n",
    "        ix = torch.multinomial(probs, num_samples=1, generator=g).item()\n",
    "        context = context[1:] + [ix]\n",
    "        out.append(ix)\n",
    "\n",
    "        if ix == 0:\n",
    "            break\n",
    "\n",
    "    print(''.join(itos[i] for i in out))\n",
    "        "
   ]
  },
  {
   "cell_type": "code",
   "execution_count": null,
   "id": "ac5c1772-8eaf-498e-8efc-e630b849cf28",
   "metadata": {},
   "outputs": [],
   "source": []
  }
 ],
 "metadata": {
  "kernelspec": {
   "display_name": "Python 3 (ipykernel)",
   "language": "python",
   "name": "python3"
  },
  "language_info": {
   "codemirror_mode": {
    "name": "ipython",
    "version": 3
   },
   "file_extension": ".py",
   "mimetype": "text/x-python",
   "name": "python",
   "nbconvert_exporter": "python",
   "pygments_lexer": "ipython3",
   "version": "3.12.3"
  }
 },
 "nbformat": 4,
 "nbformat_minor": 5
}
