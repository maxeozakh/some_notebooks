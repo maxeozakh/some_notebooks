{
 "cells": [
  {
   "cell_type": "code",
   "execution_count": 557,
   "id": "a90b916c-c574-4001-ac05-d8c1c74a5663",
   "metadata": {},
   "outputs": [],
   "source": [
    "import torch\n",
    "import torch.nn.functional as F\n",
    "import matplotlib.pyplot as plt\n",
    "%matplotlib inline"
   ]
  },
  {
   "cell_type": "code",
   "execution_count": 558,
   "id": "9c5a887d-4e37-4f80-b599-c1fa456f77a4",
   "metadata": {},
   "outputs": [],
   "source": [
    "words = open('names.txt', 'r').read().splitlines()"
   ]
  },
  {
   "cell_type": "code",
   "execution_count": 559,
   "id": "1531cd8b-6473-46a5-adb7-72656bdeef65",
   "metadata": {},
   "outputs": [
    {
     "data": {
      "text/plain": [
       "['emma', 'olivia', 'ava', 'isabella', 'sophia', 'charlotte', 'mia', 'amelia']"
      ]
     },
     "execution_count": 559,
     "metadata": {},
     "output_type": "execute_result"
    }
   ],
   "source": [
    "words[:8]"
   ]
  },
  {
   "cell_type": "code",
   "execution_count": 560,
   "id": "822b19e1-1f87-4124-b01b-5b0c34702676",
   "metadata": {},
   "outputs": [
    {
     "name": "stdout",
     "output_type": "stream",
     "text": [
      "{1: 'a', 2: 'b', 3: 'c', 4: 'd', 5: 'e', 6: 'f', 7: 'g', 8: 'h', 9: 'i', 10: 'j', 11: 'k', 12: 'l', 13: 'm', 14: 'n', 15: 'o', 16: 'p', 17: 'q', 18: 'r', 19: 's', 20: 't', 21: 'u', 22: 'v', 23: 'w', 24: 'x', 25: 'y', 26: 'z', 0: '.'}\n"
     ]
    }
   ],
   "source": [
    "chars = sorted(list(set(''.join(words))))\n",
    "stoi = {s:i+1 for i,s in enumerate(chars)}\n",
    "stoi['.'] = 0\n",
    "itos = {i:s for s,i in stoi.items()}\n",
    "print(itos)\n",
    "vocab_size = len(itos)"
   ]
  },
  {
   "cell_type": "code",
   "execution_count": 588,
   "id": "32ec48ba-af55-45a8-a659-72c3ba018f74",
   "metadata": {},
   "outputs": [
    {
     "name": "stdout",
     "output_type": "stream",
     "text": [
      "torch.Size([182580, 3]) torch.Size([182580])\n",
      "torch.Size([22767, 3]) torch.Size([22767])\n",
      "torch.Size([22799, 3]) torch.Size([22799])\n"
     ]
    }
   ],
   "source": [
    "# dataset\n",
    "\n",
    "block_size = 3\n",
    "\n",
    "def build_dataset(words):\n",
    "    X, Y = [], []\n",
    "\n",
    "    for w in words:\n",
    "        context = [0] * block_size\n",
    "        for ch in w + '.':\n",
    "            ix = stoi[ch]\n",
    "            X.append(context)\n",
    "            Y.append(ix)\n",
    "            context = context[1:] + [ix]\n",
    "\n",
    "    X = torch.tensor(X)\n",
    "    Y = torch.tensor(Y)\n",
    "    print(X.shape, Y.shape)\n",
    "    return X, Y\n",
    "\n",
    "import random\n",
    "random.seed(42)\n",
    "random.shuffle(words)\n",
    "# indexes for 80 and 90% of words\n",
    "n1 = int(0.8*len(words))\n",
    "n2 = int(0.9*len(words))\n",
    "\n",
    "Xtr, Ytr = build_dataset(words[:n1])\n",
    "Xdev, Ydev = build_dataset(words[n1:n2])\n",
    "Xte, Yte = build_dataset(words[n2:])\n",
    "# [len(x) for x in [Xtr, Xdev, Xte]]"
   ]
  },
  {
   "cell_type": "code",
   "execution_count": 589,
   "id": "f74c6756-9dfe-4ff3-a195-1dfc2b371a18",
   "metadata": {},
   "outputs": [],
   "source": [
    "# MLP\n",
    "n_embd = 10\n",
    "n_hidden = 200\n",
    "\n",
    "emb_matrix = torch.randn((vocab_size, n_embd)) # lookup table\n",
    "\n",
    "\n",
    "# l1\n",
    "W1 = torch.randn((n_embd * block_size, n_hidden)) * 0.3 # (5/3 / ((n_embd * block_size)**0.5))\n",
    "b1 = torch.randn(n_hidden) * 0.01\n",
    "\n",
    "# l2\n",
    "W2 = torch.randn((n_hidden, vocab_size)) * 0.01\n",
    "b2 = torch.randn(vocab_size) * 0\n",
    "\n",
    "params = [emb_matrix, W1, b1, W2, b2]\n",
    "for p in params:\n",
    "    p.requires_grad = True\n",
    "\n",
    "# assert sum(p.nelement() for p in params) == 11897"
   ]
  },
  {
   "cell_type": "code",
   "execution_count": 590,
   "id": "1143827b-0145-474e-beee-63fae7633af8",
   "metadata": {},
   "outputs": [],
   "source": [
    "max_steps = 200000\n",
    "batch_size = 32\n",
    "lossi = []"
   ]
  },
  {
   "cell_type": "code",
   "execution_count": 591,
   "id": "390de0c2-c8fe-461e-b7f8-21a87552760b",
   "metadata": {},
   "outputs": [
    {
     "name": "stdout",
     "output_type": "stream",
     "text": [
      "0/200000: 3.2973\n",
      "20000/200000: 2.2454\n",
      "40000/200000: 1.8536\n",
      "60000/200000: 2.2096\n",
      "80000/200000: 2.3600\n",
      "100000/200000: 2.3717\n",
      "120000/200000: 2.2312\n",
      "140000/200000: 2.1402\n",
      "160000/200000: 2.2853\n",
      "180000/200000: 1.5581\n"
     ]
    }
   ],
   "source": [
    "for i in range(max_steps):\n",
    "    # mini batch: {batch_size} random indexes (from 0 to len of dataset)\n",
    "    ix = torch.randint(0, Xtr.shape[0], (batch_size, ))\n",
    "    Xb, Yb = Xtr[ix], Ytr[ix]\n",
    "\n",
    "    # forward pass\n",
    "    emb = emb_matrix[Xb] # emb character indexes -> their vectors\n",
    "    embcat = emb.view(emb.shape[0], -1) # conc vectors to multiply them by weights\n",
    "    # print(emb.shape, embcat.shape)\n",
    "    \n",
    "    h_preact = embcat @ W1 + b1 # hidden l pre-activation\n",
    "    h = torch.tanh(h_preact) # \"non-linearity\", specificaly tahn output range is (−1,1)\n",
    "    \n",
    "    logits = h @ W2 + b2 # output layer\n",
    "    loss = F.cross_entropy(logits, Yb) # logits -> probabilities via softmax + loss function\n",
    "\n",
    "    # backward pass\n",
    "    for p in params:\n",
    "        p.grad = None\n",
    "    loss.backward()\n",
    "\n",
    "    # update params according to gradient\n",
    "    lr = 0.05 if i < max_steps // 2 else 0.01 # step learning rate DECAY\n",
    "    for p in params:\n",
    "        p.data += -lr * p.grad\n",
    "\n",
    "    # stats to print later\n",
    "    if i % (max_steps // 10) == 0:\n",
    "        print(f'{i}/{max_steps}: {loss.item():.4f}')\n",
    "    lossi.append(loss.item())"
   ]
  },
  {
   "cell_type": "code",
   "execution_count": 592,
   "id": "450fedfe-dd99-46a4-839c-d122e07734d4",
   "metadata": {},
   "outputs": [
    {
     "data": {
      "text/plain": [
       "<matplotlib.image.AxesImage at 0x177dbb620>"
      ]
     },
     "execution_count": 592,
     "metadata": {},
     "output_type": "execute_result"
    },
    {
     "data": {
      "image/png": "[encoded data removed]",
      "text/plain": [
       "<Figure size 2000x1000 with 1 Axes>"
      ]
     },
     "metadata": {},
     "output_type": "display_data"
    }
   ],
   "source": [
    "plt.figure(figsize=(20,10))\n",
    "plt.imshow(h.abs()>0.99, cmap='gray', interpolation='nearest')"
   ]
  },
  {
   "cell_type": "code",
   "execution_count": 597,
   "id": "b29adad1-48c6-4f19-b883-e3488ee169ff",
   "metadata": {},
   "outputs": [],
   "source": [
    "@torch.no_grad()\n",
    "def loss_by_split(split):\n",
    "    x, y = {\n",
    "        'train': (Xtr, Ytr),\n",
    "        'val': (Xdev, Ydev),\n",
    "        'test': (Xte, Yte),\n",
    "    }[split]\n",
    "\n",
    "    emb = emb_matrix[x]\n",
    "    embcat = emb.view(emb.shape[0], -1)\n",
    "    h = torch.tanh(embcat @ W1 + b1)\n",
    "    logits = h @ W2 + b2\n",
    "    loss = F.cross_entropy(logits, y)\n",
    "    print(split, loss.item())"
   ]
  },
  {
   "cell_type": "code",
   "execution_count": 598,
   "id": "bea8b605-7ca4-4c5e-a1cc-182555fdb70e",
   "metadata": {},
   "outputs": [
    {
     "name": "stdout",
     "output_type": "stream",
     "text": [
      "train 2.051440715789795\n",
      "val 2.1110196113586426\n"
     ]
    }
   ],
   "source": [
    "loss_by_split('train')\n",
    "loss_by_split('val')"
   ]
  },
  {
   "cell_type": "code",
   "execution_count": 599,
   "id": "cc24cca4-6871-4f44-a4a3-49a6eb1ca822",
   "metadata": {},
   "outputs": [
    {
     "data": {
      "text/plain": [
       "[<matplotlib.lines.Line2D at 0x12b45be30>]"
      ]
     },
     "execution_count": 599,
     "metadata": {},
     "output_type": "execute_result"
    },
    {
     "data": {
      "image/png": "[encoded data removed]",
      "text/plain": [
       "<Figure size 640x480 with 1 Axes>"
      ]
     },
     "metadata": {},
     "output_type": "display_data"
    }
   ],
   "source": [
    "plt.plot(lossi)"
   ]
  },
  {
   "cell_type": "code",
   "execution_count": 625,
   "id": "9d9f2aa9-6523-4f33-b652-4c3fcf31ae9d",
   "metadata": {},
   "outputs": [
    {
     "name": "stdout",
     "output_type": "stream",
     "text": [
      "tael.\n",
      "lani.\n",
      "abdulhiklaylynner.\n",
      "maddest.\n",
      "aaya.\n"
     ]
    }
   ],
   "source": [
    "# sampling\n",
    "for _ in range(5):\n",
    "    out = []\n",
    "\n",
    "    context = [0] * block_size \n",
    "    while True:\n",
    "        emb = emb_matrix[torch.tensor([context])]\n",
    "        h = torch.tanh(emb.view(1, -1) @ W1 + b1)\n",
    "        logits = h @ W2 + b2\n",
    "        probs = F.softmax(logits, dim=1)\n",
    "\n",
    "        ix = torch.multinomial(probs, num_samples=1).item()\n",
    "        context = context[1:] + [ix]\n",
    "        out.append(ix)\n",
    "        if ix == 0:\n",
    "            break\n",
    "\n",
    "    print(''.join(itos[i] for i in out))"
   ]
  },
  {
   "cell_type": "code",
   "execution_count": null,
   "id": "f8ec90b0-5dc9-4e55-b8b4-89b1c24e61e5",
   "metadata": {},
   "outputs": [],
   "source": []
  },
  {
   "cell_type": "code",
   "execution_count": null,
   "id": "d3ae288c-7c00-4868-8fa3-0ae70f5f19e7",
   "metadata": {},
   "outputs": [],
   "source": []
  },
  {
   "cell_type": "code",
   "execution_count": null,
   "id": "8b18ea98-1cb1-4fd1-bdc0-82adc09ebf33",
   "metadata": {},
   "outputs": [],
   "source": []
  },
  {
   "cell_type": "code",
   "execution_count": null,
   "id": "fbcaffaf-336e-44c5-be42-b7946a70f75a",
   "metadata": {},
   "outputs": [],
   "source": []
  },
  {
   "cell_type": "code",
   "execution_count": null,
   "id": "3abd839e-8eeb-40c9-8d0c-9bbfb44bddb9",
   "metadata": {},
   "outputs": [],
   "source": []
  },
  {
   "cell_type": "code",
   "execution_count": null,
   "id": "716d27dc-2730-4fc6-bb05-cbe89dce1d4a",
   "metadata": {},
   "outputs": [],
   "source": []
  },
  {
   "cell_type": "code",
   "execution_count": null,
   "id": "1117aabb-73ef-41e1-a6bf-6d9957cd559c",
   "metadata": {},
   "outputs": [],
   "source": []
  },
  {
   "cell_type": "code",
   "execution_count": null,
   "id": "e37bda4c-9f16-42d7-bfb7-a4c1fe320a08",
   "metadata": {},
   "outputs": [],
   "source": []
  },
  {
   "cell_type": "code",
   "execution_count": null,
   "id": "2afb734e-ce67-4797-96ef-ec91590c59f3",
   "metadata": {},
   "outputs": [],
   "source": []
  },
  {
   "cell_type": "code",
   "execution_count": null,
   "id": "b73741f5-45f8-4827-bc24-15eabf563414",
   "metadata": {},
   "outputs": [],
   "source": []
  }
 ],
 "metadata": {
  "kernelspec": {
   "display_name": "Python 3 (ipykernel)",
   "language": "python",
   "name": "python3"
  },
  "language_info": {
   "codemirror_mode": {
    "name": "ipython",
    "version": 3
   },
   "file_extension": ".py",
   "mimetype": "text/x-python",
   "name": "python",
   "nbconvert_exporter": "python",
   "pygments_lexer": "ipython3",
   "version": "3.12.3"
  }
 },
 "nbformat": 4,
 "nbformat_minor": 5
}
