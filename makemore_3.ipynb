{
 "cells": [
  {
   "cell_type": "code",
   "execution_count": 24,
   "id": "a90b916c-c574-4001-ac05-d8c1c74a5663",
   "metadata": {},
   "outputs": [],
   "source": [
    "import torch\n",
    "import torch.nn.functional as F\n",
    "import matplotlib.pyplot as plt\n",
    "%matplotlib inline"
   ]
  },
  {
   "cell_type": "code",
   "execution_count": 25,
   "id": "9c5a887d-4e37-4f80-b599-c1fa456f77a4",
   "metadata": {},
   "outputs": [],
   "source": [
    "words = open('names.txt', 'r').read().splitlines()"
   ]
  },
  {
   "cell_type": "code",
   "execution_count": 26,
   "id": "1531cd8b-6473-46a5-adb7-72656bdeef65",
   "metadata": {},
   "outputs": [
    {
     "data": {
      "text/plain": [
       "['emma', 'olivia', 'ava', 'isabella', 'sophia', 'charlotte', 'mia', 'amelia']"
      ]
     },
     "execution_count": 26,
     "metadata": {},
     "output_type": "execute_result"
    }
   ],
   "source": [
    "words[:8]"
   ]
  },
  {
   "cell_type": "code",
   "execution_count": 27,
   "id": "822b19e1-1f87-4124-b01b-5b0c34702676",
   "metadata": {},
   "outputs": [
    {
     "name": "stdout",
     "output_type": "stream",
     "text": [
      "{1: 'a', 2: 'b', 3: 'c', 4: 'd', 5: 'e', 6: 'f', 7: 'g', 8: 'h', 9: 'i', 10: 'j', 11: 'k', 12: 'l', 13: 'm', 14: 'n', 15: 'o', 16: 'p', 17: 'q', 18: 'r', 19: 's', 20: 't', 21: 'u', 22: 'v', 23: 'w', 24: 'x', 25: 'y', 26: 'z', 0: '.'}\n"
     ]
    }
   ],
   "source": [
    "chars = sorted(list(set(''.join(words))))\n",
    "stoi = {s:i+1 for i,s in enumerate(chars)}\n",
    "stoi['.'] = 0\n",
    "itos = {i:s for s,i in stoi.items()}\n",
    "print(itos)\n",
    "vocab_size = len(itos)"
   ]
  },
  {
   "cell_type": "code",
   "execution_count": 28,
   "id": "32ec48ba-af55-45a8-a659-72c3ba018f74",
   "metadata": {},
   "outputs": [
    {
     "name": "stdout",
     "output_type": "stream",
     "text": [
      "torch.Size([182625, 3]) torch.Size([182625])\n",
      "torch.Size([22655, 3]) torch.Size([22655])\n",
      "torch.Size([22866, 3]) torch.Size([22866])\n"
     ]
    }
   ],
   "source": [
    "# dataset\n",
    "\n",
    "block_size = 3\n",
    "\n",
    "def build_dataset(words):\n",
    "    X, Y = [], []\n",
    "\n",
    "    for w in words:\n",
    "        context = [0] * block_size\n",
    "        for ch in w + '.':\n",
    "            ix = stoi[ch]\n",
    "            X.append(context)\n",
    "            Y.append(ix)\n",
    "            context = context[1:] + [ix]\n",
    "\n",
    "    X = torch.tensor(X)\n",
    "    Y = torch.tensor(Y)\n",
    "    print(X.shape, Y.shape)\n",
    "    return X, Y\n",
    "\n",
    "import random\n",
    "random.seed(42)\n",
    "random.shuffle(words)\n",
    "# indexes for 80 and 90% of words\n",
    "n1 = int(0.8*len(words))\n",
    "n2 = int(0.9*len(words))\n",
    "\n",
    "Xtr, Ytr = build_dataset(words[:n1])\n",
    "Xdev, Ydev = build_dataset(words[n1:n2])\n",
    "Xte, Yte = build_dataset(words[n2:])\n",
    "# [len(x) for x in [Xtr, Xdev, Xte]]"
   ]
  },
  {
   "cell_type": "code",
   "execution_count": 29,
   "id": "f74c6756-9dfe-4ff3-a195-1dfc2b371a18",
   "metadata": {},
   "outputs": [],
   "source": [
    "# MLP\n",
    "n_embd = 10\n",
    "n_hidden = 200\n",
    "\n",
    "emb_matrix = torch.randn((vocab_size, n_embd)) # lookup table\n",
    "\n",
    "\n",
    "# l1\n",
    "W1 = torch.randn((n_embd * block_size, n_hidden)) * 5/3 # (5/3 / ((n_embd * block_size)**0.5))\n",
    "# b1 = torch.randn(n_hidden) * 0.01\n",
    "\n",
    "# l2\n",
    "W2 = torch.randn((n_hidden, vocab_size)) * 0.01\n",
    "b2 = torch.randn(vocab_size) * 0\n",
    "\n",
    "# stuff for BatchNorm layer\n",
    "batch_norm_gain = torch.ones((1, n_hidden))\n",
    "batch_norm_bias = torch.zeros((1, n_hidden))\n",
    "\n",
    "bnmean_running = torch.zeros((1, n_hidden))\n",
    "bnstd_running = torch.ones((1, n_hidden))\n",
    "\n",
    "params = [emb_matrix, W1, W2, b2, \n",
    "          batch_norm_gain, batch_norm_bias]\n",
    "for p in params:\n",
    "    p.requires_grad = True\n",
    "\n",
    "# assert sum(p.nelement() for p in params) == 11897"
   ]
  },
  {
   "cell_type": "code",
   "execution_count": 30,
   "id": "1143827b-0145-474e-beee-63fae7633af8",
   "metadata": {},
   "outputs": [],
   "source": [
    "max_steps =  20000\n",
    "batch_size = 32\n",
    "lossi = []"
   ]
  },
  {
   "cell_type": "code",
   "execution_count": 31,
   "id": "390de0c2-c8fe-461e-b7f8-21a87552760b",
   "metadata": {},
   "outputs": [
    {
     "name": "stdout",
     "output_type": "stream",
     "text": [
      "0/20000: 3.2921\n",
      "4000/20000: 2.5692\n",
      "8000/20000: 2.0108\n",
      "12000/20000: 1.8006\n",
      "16000/20000: 2.3066\n"
     ]
    }
   ],
   "source": [
    "for i in range(max_steps):\n",
    "    # mini batch: {batch_size} random indexes (from 0 to len of dataset)\n",
    "    ix = torch.randint(0, Xtr.shape[0], (batch_size, ))\n",
    "    Xb, Yb = Xtr[ix], Ytr[ix]\n",
    "\n",
    "    # forward pass\n",
    "    emb = emb_matrix[Xb] # emb character indexes -> their vectors\n",
    "    embcat = emb.view(emb.shape[0], -1) # conc vectors to multiply them by weights\n",
    "    # print(emb.shape, embcat.shape)\n",
    "    \n",
    "    h_preact = embcat @ W1 #  + b1 # hidden l pre-activation\n",
    "    bnmeani = h_preact.mean(0, keepdim=True)\n",
    "    bnstdi = h_preact.std(0, keepdim=True)\n",
    "    # https://chatgpt.com/share/67608dff-4090-800d-93a4-d66b77c03faf\n",
    "    h_preact_normalized = batch_norm_gain * (h_preact - bnmeani) / bnstdi + batch_norm_bias # \"BatchNorm\" layer \n",
    "\n",
    "    with torch.no_grad():\n",
    "        bnmean_running = 0.999 * bnmean_running + 0.001 * bnmeani\n",
    "        bnstd_running = 0.999 * bnstd_running + 0.001 * bnstdi\n",
    "    \n",
    "    h = torch.tanh(h_preact_normalized) # \"non-linearity\", specificaly tahn output range is (−1,1)\n",
    "    logits = h @ W2 + b2 # output layer\n",
    "    loss = F.cross_entropy(logits, Yb) # logits -> probabilities via softmax + loss function\n",
    "\n",
    "    # backward pass\n",
    "    for p in params:\n",
    "        p.grad = None\n",
    "    loss.backward()\n",
    "\n",
    "    # update params according to gradient\n",
    "    lr = 0.05 if i < max_steps // 2 else 0.01 # step learning rate DECAY\n",
    "    for p in params:\n",
    "        p.data += -lr * p.grad\n",
    "\n",
    "    # stats to print later\n",
    "    if i % (max_steps // 5) == 0:\n",
    "        print(f'{i}/{max_steps}: {loss.item():.4f}')\n",
    "    lossi.append(loss.item())"
   ]
  },
  {
   "cell_type": "code",
   "execution_count": 32,
   "id": "450fedfe-dd99-46a4-839c-d122e07734d4",
   "metadata": {},
   "outputs": [
    {
     "data": {
      "text/plain": [
       "<matplotlib.image.AxesImage at 0x10d214e60>"
      ]
     },
     "execution_count": 32,
     "metadata": {},
     "output_type": "execute_result"
    },
    {
     "data": {
      "image/png": "[encoded data removed]",
      "text/plain": [
       "<Figure size 2000x1000 with 1 Axes>"
      ]
     },
     "metadata": {},
     "output_type": "display_data"
    }
   ],
   "source": [
    "plt.figure(figsize=(20,10))\n",
    "plt.imshow(h.abs()>0.99, cmap='gray', interpolation='nearest')"
   ]
  },
  {
   "cell_type": "code",
   "execution_count": 33,
   "id": "7edebf2f-673d-4542-8df9-ce1c3fa81938",
   "metadata": {},
   "outputs": [],
   "source": [
    "# calibration of the batch norm at the end of training\n",
    "# with torch.no_grad():\n",
    "#     emb = emb_matrix[Xtr]\n",
    "#     embcat = emb.view(emb.shape[0], -1)\n",
    "#     h_preact = embcat @ W1 + b1\n",
    "#     #measure the mean/std over the entire training set\n",
    "#     bnmean = h_preact.mean(0, keepdim=True)\n",
    "#     bnstd = h_preact.std(0, keepdim=True)\n",
    "\n",
    "# bnmean, bnmean_running"
   ]
  },
  {
   "cell_type": "code",
   "execution_count": 34,
   "id": "b29adad1-48c6-4f19-b883-e3488ee169ff",
   "metadata": {},
   "outputs": [],
   "source": [
    "@torch.no_grad()\n",
    "def loss_by_split(split):\n",
    "    x, y = {\n",
    "        'train': (Xtr, Ytr),\n",
    "        'val': (Xdev, Ydev),\n",
    "        'test': (Xte, Yte),\n",
    "    }[split]\n",
    "\n",
    "    emb = emb_matrix[x]\n",
    "    embcat = emb.view(emb.shape[0], -1)\n",
    "    h_preact = embcat @ W1#+ b1 # hidden l pre-activation\n",
    "    h_preact_normalized = batch_norm_gain * (h_preact - bnmean_running) / bnstd_running + batch_norm_bias # \"BatchNorm\" layer \n",
    "    # h_preact_normalized = batch_norm_gain * (h_preact - bnmean) / bnstd + batch_norm_bias # \"BatchNorm\" layer \n",
    "    h = torch.tanh(h_preact_normalized) # \"non-linearity\", specificaly tahn output range is (−1,1)\n",
    "    logits = h @ W2 + b2\n",
    "    loss = F.cross_entropy(logits, y)\n",
    "    print(split, loss.item())"
   ]
  },
  {
   "cell_type": "code",
   "execution_count": 35,
   "id": "bea8b605-7ca4-4c5e-a1cc-182555fdb70e",
   "metadata": {},
   "outputs": [
    {
     "name": "stdout",
     "output_type": "stream",
     "text": [
      "train 2.263150930404663\n",
      "val 2.266525983810425\n"
     ]
    }
   ],
   "source": [
    "loss_by_split('train')\n",
    "loss_by_split('val')"
   ]
  },
  {
   "cell_type": "code",
   "execution_count": 36,
   "id": "cc24cca4-6871-4f44-a4a3-49a6eb1ca822",
   "metadata": {},
   "outputs": [
    {
     "data": {
      "text/plain": [
       "[<matplotlib.lines.Line2D at 0x10d267080>]"
      ]
     },
     "execution_count": 36,
     "metadata": {},
     "output_type": "execute_result"
    },
    {
     "data": {
      "image/png": "[encoded data removed]",
      "text/plain": [
       "<Figure size 640x480 with 1 Axes>"
      ]
     },
     "metadata": {},
     "output_type": "display_data"
    }
   ],
   "source": [
    "plt.plot(lossi)"
   ]
  },
  {
   "cell_type": "code",
   "execution_count": 45,
   "id": "9d9f2aa9-6523-4f33-b652-4c3fcf31ae9d",
   "metadata": {},
   "outputs": [
    {
     "name": "stdout",
     "output_type": "stream",
     "text": [
      "kah.\n",
      "lydeem.\n",
      "illyogiu.\n",
      "avere.\n",
      "adri.\n"
     ]
    }
   ],
   "source": [
    "# sampling\n",
    "for _ in range(5):\n",
    "    out = []\n",
    "\n",
    "    context = [0] * block_size \n",
    "    while True:\n",
    "        emb = emb_matrix[torch.tensor([context])]\n",
    "        h = torch.tanh(emb.view(emb.shape[0], -1) @ W1)\n",
    "\n",
    "        h_preact = emb.view(emb.shape[0], -1) @ W1\n",
    "        h_preact_normalized = batch_norm_gain * (h_preact - bnmean_running) / bnstd_running + batch_norm_bias\n",
    "        h = torch.tanh(h_preact_normalized)\n",
    "        logits = h @ W2 + b2\n",
    "        probs = F.softmax(logits, dim=1)\n",
    "\n",
    "        ix = torch.multinomial(probs, num_samples=1).item()\n",
    "        context = context[1:] + [ix]\n",
    "        out.append(ix)\n",
    "        if ix == 0:\n",
    "            break\n",
    "\n",
    "    print(''.join(itos[i] for i in out))"
   ]
  },
  {
   "cell_type": "code",
   "execution_count": null,
   "id": "bb133f40-dad6-4658-b0fe-c8aaefb58151",
   "metadata": {},
   "outputs": [],
   "source": []
  }
 ],
 "metadata": {
  "kernelspec": {
   "display_name": "Python 3 (ipykernel)",
   "language": "python",
   "name": "python3"
  },
  "language_info": {
   "codemirror_mode": {
    "name": "ipython",
    "version": 3
   },
   "file_extension": ".py",
   "mimetype": "text/x-python",
   "name": "python",
   "nbconvert_exporter": "python",
   "pygments_lexer": "ipython3",
   "version": "3.12.3"
  }
 },
 "nbformat": 4,
 "nbformat_minor": 5
}
