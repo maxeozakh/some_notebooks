{
 "cells": [
  {
   "cell_type": "code",
   "execution_count": 3,
   "id": "4b4dbaa7-a1ec-4d02-a7e4-d1a13145263d",
   "metadata": {},
   "outputs": [],
   "source": [
    "import torch\n",
    "import torch.nn.functional as F\n",
    "import matplotlib.pyplot as plt\n",
    "%matplotlib inline"
   ]
  },
  {
   "cell_type": "code",
   "execution_count": 49,
   "id": "3d179199-1dc4-47f2-8f14-a80eaac485a9",
   "metadata": {},
   "outputs": [
    {
     "data": {
      "text/plain": [
       "(tensor([[0.9999],\n",
       "         [0.0111],\n",
       "         [0.0111],\n",
       "         [0.0111]]),\n",
       " torch.Size([4, 1]),\n",
       " torch.Size([4, 2]))"
      ]
     },
     "execution_count": 49,
     "metadata": {},
     "output_type": "execute_result"
    }
   ],
   "source": [
    "# il = torch.tensor([0.99, 0.01, 0.01, 0.01])\n",
    "# il = torch.tensor([0.01, 0.99, 0.01, 0.01])\n",
    "# il = torch.tensor([0.01, 0.01, 0.99, 0.01])\n",
    "# il = torch.tensor([0.01, 0.01, 0.01, 0.99])\n",
    "il = torch.full((4, 1), 0.0111)\n",
    "n = 0\n",
    "il[n][0] = 0.9999\n",
    "\n",
    "W = torch.tensor([\n",
    "    [-1.0, -1.0], \n",
    "    [10.0, -1.0], \n",
    "    [-1.0, 10.0], \n",
    "    [10.0, 10.0]])\n",
    "\n",
    "# W  = W.view(2,4)\n",
    "\n",
    "\n",
    "il, il.shape, W.shape"
   ]
  },
  {
   "cell_type": "code",
   "execution_count": 50,
   "id": "aff0b105-9d9d-44f2-bfa0-cc8c1d2c9c8a",
   "metadata": {},
   "outputs": [
    {
     "data": {
      "text/plain": [
       "(0,\n",
       " torch.Size([4, 2]),\n",
       " tensor([[-0.9999, -0.9999],\n",
       "         [ 0.1110, -0.0111],\n",
       "         [-0.0111,  0.1110],\n",
       "         [ 0.1110,  0.1110]]))"
      ]
     },
     "execution_count": 50,
     "metadata": {},
     "output_type": "execute_result"
    }
   ],
   "source": [
    "probs = il * W\n",
    "n, probs.shape, probs\n",
    "# sums = torch.sum(probs, 1)\n",
    "\n",
    "# max_i = torch.argmax(sums).item()\n",
    "# probs, probs[max_i], torch.sigmoid(probs[max_i].flip(dims=(0,))), max_i"
   ]
  },
  {
   "cell_type": "code",
   "execution_count": null,
   "id": "b4a7d60f-103a-4750-97ed-ab87c8f91eab",
   "metadata": {},
   "outputs": [],
   "source": []
  },
  {
   "cell_type": "code",
   "execution_count": null,
   "id": "096524d7-a4e9-4d1c-851a-46b4685a8050",
   "metadata": {},
   "outputs": [],
   "source": []
  },
  {
   "cell_type": "code",
   "execution_count": null,
   "id": "2f3be0c1-ee3f-4e8b-9c94-7fd568c293a5",
   "metadata": {},
   "outputs": [],
   "source": []
  }
 ],
 "metadata": {
  "kernelspec": {
   "display_name": "Python 3 (ipykernel)",
   "language": "python",
   "name": "python3"
  },
  "language_info": {
   "codemirror_mode": {
    "name": "ipython",
    "version": 3
   },
   "file_extension": ".py",
   "mimetype": "text/x-python",
   "name": "python",
   "nbconvert_exporter": "python",
   "pygments_lexer": "ipython3",
   "version": "3.12.3"
  }
 },
 "nbformat": 4,
 "nbformat_minor": 5
}
