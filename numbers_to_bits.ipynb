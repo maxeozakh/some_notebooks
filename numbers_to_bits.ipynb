{
 "cells": [
  {
   "cell_type": "code",
   "execution_count": 4,
   "id": "4b4dbaa7-a1ec-4d02-a7e4-d1a13145263d",
   "metadata": {},
   "outputs": [],
   "source": [
    "import torch\n",
    "import torch.nn.functional as F\n",
    "import matplotlib.pyplot as plt\n",
    "%matplotlib inline"
   ]
  },
  {
   "cell_type": "code",
   "execution_count": 260,
   "id": "3d179199-1dc4-47f2-8f14-a80eaac485a9",
   "metadata": {},
   "outputs": [
    {
     "data": {
      "text/plain": [
       "(tensor([[0.0111],\n",
       "         [0.0111],\n",
       "         [0.9999],\n",
       "         [0.0111]]),\n",
       " torch.Size([4, 1]),\n",
       " torch.Size([4, 2]))"
      ]
     },
     "execution_count": 260,
     "metadata": {},
     "output_type": "execute_result"
    }
   ],
   "source": [
    "# il = torch.tensor([0.99, 0.01, 0.01, 0.01])\n",
    "# il = torch.tensor([0.01, 0.99, 0.01, 0.01])\n",
    "# il = torch.tensor([0.01, 0.01, 0.99, 0.01])\n",
    "# il = torch.tensor([0.01, 0.01, 0.01, 0.99])\n",
    "il = torch.full((4, 1), 0.0111)\n",
    "n = 2\n",
    "il[n][0] = 0.9999\n",
    "\n",
    "\n",
    "ol = torch.zeros((4, 4))\n",
    "ol[1][3] = 1\n",
    "ol[2][2] = 1\n",
    "ol[3][2] = 1\n",
    "ol[3][3] = 1\n",
    "\n",
    "# W = torch.tensor([\n",
    "#     [-10.0, -10.0], \n",
    "#     [10.0, -10.0], \n",
    "#     [-10.0, 10.0], \n",
    "#     [10.0, 10.0]])\n",
    "\n",
    "\n",
    "# W = torch.tensor([\n",
    "#     [-5.0, -5.0], \n",
    "#     [10.0, -5.0], \n",
    "#     [-5.0, 10.0], \n",
    "#     [10.0, 10.0]])\n",
    "W = torch.tensor([\n",
    "    [10.0, 10.0], \n",
    "    [10.0, -5.0], \n",
    "    [-5.0, 10.0], \n",
    "    [10.0, 10.0]])\n",
    "\n",
    "W = W * 100\n",
    "\n",
    "\n",
    "il, il.shape, W.shape"
   ]
  },
  {
   "cell_type": "code",
   "execution_count": 266,
   "id": "aff0b105-9d9d-44f2-bfa0-cc8c1d2c9c8a",
   "metadata": {},
   "outputs": [
    {
     "ename": "TypeError",
     "evalue": "flip() missing 1 required positional arguments: \"dims\"",
     "output_type": "error",
     "traceback": [
      "\u001b[0;31m---------------------------------------------------------------------------\u001b[0m",
      "\u001b[0;31mTypeError\u001b[0m                                 Traceback (most recent call last)",
      "Cell \u001b[0;32mIn[266], line 6\u001b[0m\n\u001b[1;32m      3\u001b[0m sums \u001b[38;5;241m=\u001b[39m torch\u001b[38;5;241m.\u001b[39msum(probs, \u001b[38;5;241m1\u001b[39m)\n\u001b[1;32m      5\u001b[0m max_i \u001b[38;5;241m=\u001b[39m torch\u001b[38;5;241m.\u001b[39margmax(sums)\u001b[38;5;241m.\u001b[39mitem()\n\u001b[0;32m----> 6\u001b[0m probs, probs[max_i], torch\u001b[38;5;241m.\u001b[39msigmoid(\u001b[43mprobs\u001b[49m\u001b[43m[\u001b[49m\u001b[43mmax_i\u001b[49m\u001b[43m]\u001b[49m\u001b[38;5;241;43m.\u001b[39;49m\u001b[43mflip\u001b[49m\u001b[43m(\u001b[49m\u001b[43mdim\u001b[49m\u001b[38;5;241;43m=\u001b[39;49m\u001b[38;5;241;43m0\u001b[39;49m\u001b[43m)\u001b[49m), max_i\n",
      "\u001b[0;31mTypeError\u001b[0m: flip() missing 1 required positional arguments: \"dims\""
     ]
    }
   ],
   "source": [
    "il = il.view((4, 1))\n",
    "probs = il * W\n",
    "sums = torch.sum(probs, 1)\n",
    "\n",
    "max_i = torch.argmax(sums).item()\n",
    "probs, probs[max_i], torch.sigmoid(probs[max_i].flip(dim=0)), max_i"
   ]
  },
  {
   "cell_type": "code",
   "execution_count": null,
   "id": "b4a7d60f-103a-4750-97ed-ab87c8f91eab",
   "metadata": {},
   "outputs": [],
   "source": []
  },
  {
   "cell_type": "code",
   "execution_count": null,
   "id": "096524d7-a4e9-4d1c-851a-46b4685a8050",
   "metadata": {},
   "outputs": [],
   "source": []
  },
  {
   "cell_type": "code",
   "execution_count": null,
   "id": "2f3be0c1-ee3f-4e8b-9c94-7fd568c293a5",
   "metadata": {},
   "outputs": [],
   "source": []
  }
 ],
 "metadata": {
  "kernelspec": {
   "display_name": "Python 3 (ipykernel)",
   "language": "python",
   "name": "python3"
  },
  "language_info": {
   "codemirror_mode": {
    "name": "ipython",
    "version": 3
   },
   "file_extension": ".py",
   "mimetype": "text/x-python",
   "name": "python",
   "nbconvert_exporter": "python",
   "pygments_lexer": "ipython3",
   "version": "3.12.3"
  }
 },
 "nbformat": 4,
 "nbformat_minor": 5
}
